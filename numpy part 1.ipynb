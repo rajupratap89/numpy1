{
 "cells": [
  {
   "cell_type": "code",
   "execution_count": 1,
   "id": "a7ada6f7-a168-4a84-9f0a-eb6131970a63",
   "metadata": {},
   "outputs": [],
   "source": [
    "import numpy as np"
   ]
  },
  {
   "cell_type": "code",
   "execution_count": null,
   "id": "2a81c668-c741-459e-b6b4-6c3a339349f3",
   "metadata": {},
   "outputs": [],
   "source": [
    "l=[1,2,3,4]"
   ]
  },
  {
   "cell_type": "code",
   "execution_count": null,
   "id": "21d5e19f-6b44-4029-ab72-a4b7eb8a5e35",
   "metadata": {},
   "outputs": [],
   "source": [
    "ar=np.array(l)"
   ]
  },
  {
   "cell_type": "code",
   "execution_count": 4,
   "id": "8e3361ad-896e-40a9-89bd-80eb4a6b4396",
   "metadata": {},
   "outputs": [
    {
     "data": {
      "text/plain": [
       "array([1, 2, 3, 4])"
      ]
     },
     "execution_count": 4,
     "metadata": {},
     "output_type": "execute_result"
    }
   ],
   "source": [
    "ar"
   ]
  },
  {
   "cell_type": "code",
   "execution_count": 5,
   "id": "d64b38ef-1bab-49cf-b2a2-48cd6ff57e7c",
   "metadata": {},
   "outputs": [
    {
     "data": {
      "text/plain": [
       "numpy.ndarray"
      ]
     },
     "execution_count": 5,
     "metadata": {},
     "output_type": "execute_result"
    }
   ],
   "source": [
    "type(ar)"
   ]
  },
  {
   "cell_type": "code",
   "execution_count": 7,
   "id": "67758d8b-b195-40c6-9cdd-e6e48d305342",
   "metadata": {},
   "outputs": [
    {
     "data": {
      "text/plain": [
       "array([[1, 2],\n",
       "       [3, 4]])"
      ]
     },
     "execution_count": 7,
     "metadata": {},
     "output_type": "execute_result"
    }
   ],
   "source": [
    "np.array([[1,2] ,[3,4]])"
   ]
  },
  {
   "cell_type": "code",
   "execution_count": 9,
   "id": "eb2aa5cd-7713-4444-9c03-d17e8b2e61c1",
   "metadata": {},
   "outputs": [],
   "source": [
    "a=[1,2,3]"
   ]
  },
  {
   "cell_type": "code",
   "execution_count": 11,
   "id": "148b72f6-ed6c-4ccf-974a-fe7dea071cfa",
   "metadata": {},
   "outputs": [
    {
     "data": {
      "text/plain": [
       "array([1, 2, 3])"
      ]
     },
     "execution_count": 11,
     "metadata": {},
     "output_type": "execute_result"
    }
   ],
   "source": [
    "np.asanyarray(a)"
   ]
  },
  {
   "cell_type": "code",
   "execution_count": 12,
   "id": "2926c1c9-e431-41be-996e-c3872dea709b",
   "metadata": {},
   "outputs": [],
   "source": [
    "c=a"
   ]
  },
  {
   "cell_type": "code",
   "execution_count": 13,
   "id": "50081399-f3cb-47f3-92f0-4116c72e9ca9",
   "metadata": {},
   "outputs": [
    {
     "data": {
      "text/plain": [
       "[1, 2, 3]"
      ]
     },
     "execution_count": 13,
     "metadata": {},
     "output_type": "execute_result"
    }
   ],
   "source": [
    "c"
   ]
  },
  {
   "cell_type": "code",
   "execution_count": 14,
   "id": "5cb2253a-c3ff-4f38-a7bd-61acb04a80a5",
   "metadata": {},
   "outputs": [],
   "source": [
    "d=np.copy(a)"
   ]
  },
  {
   "cell_type": "code",
   "execution_count": 15,
   "id": "ebf6c77d-f939-4d9d-bcd9-20d0d31cc4cb",
   "metadata": {},
   "outputs": [
    {
     "data": {
      "text/plain": [
       "array([1, 2, 3])"
      ]
     },
     "execution_count": 15,
     "metadata": {},
     "output_type": "execute_result"
    }
   ],
   "source": [
    "d"
   ]
  },
  {
   "cell_type": "code",
   "execution_count": 16,
   "id": "205fb046-ecd1-4288-92c8-bbb265849c5d",
   "metadata": {},
   "outputs": [],
   "source": [
    "a[2]=300"
   ]
  },
  {
   "cell_type": "code",
   "execution_count": 18,
   "id": "495e1aeb-6cf5-40f6-aa17-8f829e001fdd",
   "metadata": {},
   "outputs": [
    {
     "data": {
      "text/plain": [
       "[1, 2, 300]"
      ]
     },
     "execution_count": 18,
     "metadata": {},
     "output_type": "execute_result"
    }
   ],
   "source": [
    "a"
   ]
  },
  {
   "cell_type": "code",
   "execution_count": 7,
   "id": "1628fe72-83b7-4909-acdc-dd301721b0ed",
   "metadata": {},
   "outputs": [
    {
     "data": {
      "text/plain": [
       "array([[ True, False, False],\n",
       "       [False,  True, False],\n",
       "       [False, False,  True]])"
      ]
     },
     "execution_count": 7,
     "metadata": {},
     "output_type": "execute_result"
    }
   ],
   "source": [
    "np.fromfunction(lambda i,j : i==j ,(3,3))"
   ]
  },
  {
   "cell_type": "code",
   "execution_count": 9,
   "id": "05e739d1-b0b0-4396-8792-c3a2032bf6a9",
   "metadata": {},
   "outputs": [
    {
     "data": {
      "text/plain": [
       "array([[0., 0., 0.],\n",
       "       [0., 1., 2.],\n",
       "       [0., 2., 4.]])"
      ]
     },
     "execution_count": 9,
     "metadata": {},
     "output_type": "execute_result"
    }
   ],
   "source": [
    "np.fromfunction(lambda i,j : i*j ,(3,3))"
   ]
  },
  {
   "cell_type": "code",
   "execution_count": 12,
   "id": "445bf84b-7463-41d9-be34-3cd64ef0c45c",
   "metadata": {},
   "outputs": [],
   "source": [
    "iterable=(i*i for i in range(6))"
   ]
  },
  {
   "cell_type": "code",
   "execution_count": 13,
   "id": "449e97df-598d-4f8d-b977-4ec9147420ca",
   "metadata": {},
   "outputs": [
    {
     "data": {
      "text/plain": [
       "array([ 0.,  1.,  4.,  9., 16., 25.])"
      ]
     },
     "execution_count": 13,
     "metadata": {},
     "output_type": "execute_result"
    }
   ],
   "source": [
    "np.fromiter(iterable ,float)"
   ]
  },
  {
   "cell_type": "code",
   "execution_count": 16,
   "id": "9a21bec8-fcb9-4a90-be07-3a6bc030fa16",
   "metadata": {},
   "outputs": [
    {
     "data": {
      "text/plain": [
       "array([123., 456.])"
      ]
     },
     "execution_count": 16,
     "metadata": {},
     "output_type": "execute_result"
    }
   ],
   "source": [
    "np.fromstring('123 456' ,sep=' ')"
   ]
  },
  {
   "cell_type": "code",
   "execution_count": 17,
   "id": "19cb9edb-ff86-45fc-8797-1870db4e7690",
   "metadata": {},
   "outputs": [
    {
     "data": {
      "text/plain": [
       "array([1., 2.])"
      ]
     },
     "execution_count": 17,
     "metadata": {},
     "output_type": "execute_result"
    }
   ],
   "source": [
    "np.fromstring('1 2' ,sep=' ')"
   ]
  },
  {
   "cell_type": "code",
   "execution_count": 2,
   "id": "d00724fc-7cd0-427b-8df8-da0464ad3c5f",
   "metadata": {},
   "outputs": [
    {
     "data": {
      "text/plain": [
       "array([[0., 0., 0., 0.],\n",
       "       [0., 1., 2., 3.],\n",
       "       [0., 2., 4., 6.],\n",
       "       [0., 3., 6., 9.]])"
      ]
     },
     "execution_count": 2,
     "metadata": {},
     "output_type": "execute_result"
    }
   ],
   "source": [
    "np.fromfunction(lambda i,j : i*j ,(4,4))"
   ]
  },
  {
   "cell_type": "code",
   "execution_count": 3,
   "id": "dfa25df4-2484-4866-b306-c2ff47184a10",
   "metadata": {},
   "outputs": [
    {
     "data": {
      "text/plain": [
       "array([[ True, False, False, False],\n",
       "       [False,  True, False, False],\n",
       "       [False, False,  True, False],\n",
       "       [False, False, False,  True]])"
      ]
     },
     "execution_count": 3,
     "metadata": {},
     "output_type": "execute_result"
    }
   ],
   "source": [
    "np.fromfunction(lambda i,j : i==j ,(4,4))"
   ]
  },
  {
   "cell_type": "code",
   "execution_count": 6,
   "id": "46f95da9-b290-415b-b93d-5d22915bca74",
   "metadata": {},
   "outputs": [],
   "source": [
    "iterable1=(i*i for i in range(7))"
   ]
  },
  {
   "cell_type": "code",
   "execution_count": 7,
   "id": "5af51011-62fb-4ef6-921f-72c385c69f03",
   "metadata": {},
   "outputs": [
    {
     "data": {
      "text/plain": [
       "array([ 0,  1,  4,  9, 16, 25, 36])"
      ]
     },
     "execution_count": 7,
     "metadata": {},
     "output_type": "execute_result"
    }
   ],
   "source": [
    "np.fromiter(iterable1 ,int)"
   ]
  },
  {
   "cell_type": "code",
   "execution_count": 8,
   "id": "9542709b-39df-4cbe-b2d9-dff709a5949e",
   "metadata": {},
   "outputs": [],
   "source": [
    "#numpy-data types"
   ]
  },
  {
   "cell_type": "code",
   "execution_count": 2,
   "id": "9b59f936-4422-471b-b51b-94f088d97d7d",
   "metadata": {},
   "outputs": [],
   "source": [
    "m=[1,2,3,4,5]"
   ]
  },
  {
   "cell_type": "code",
   "execution_count": 3,
   "id": "ecddd72a-6986-4232-8199-3f2b26a79f74",
   "metadata": {},
   "outputs": [],
   "source": [
    "ar=np.array(m)"
   ]
  },
  {
   "cell_type": "code",
   "execution_count": 4,
   "id": "28bb5bb2-ff14-4f5c-bb87-6ec66e45b3a5",
   "metadata": {},
   "outputs": [
    {
     "data": {
      "text/plain": [
       "array([1, 2, 3, 4, 5])"
      ]
     },
     "execution_count": 4,
     "metadata": {},
     "output_type": "execute_result"
    }
   ],
   "source": [
    "ar"
   ]
  },
  {
   "cell_type": "code",
   "execution_count": 5,
   "id": "b241ca68-e607-4ae6-a112-64c3132519fe",
   "metadata": {},
   "outputs": [
    {
     "data": {
      "text/plain": [
       "1"
      ]
     },
     "execution_count": 5,
     "metadata": {},
     "output_type": "execute_result"
    }
   ],
   "source": [
    "ar.ndim"
   ]
  },
  {
   "cell_type": "code",
   "execution_count": 12,
   "id": "2b875152-b0fc-4931-8940-e4182f85ebab",
   "metadata": {},
   "outputs": [],
   "source": [
    "ar1=np.array([[9,8,7,6,5] ,[1,2,3,4,5]])"
   ]
  },
  {
   "cell_type": "code",
   "execution_count": 13,
   "id": "6b2a7abf-8f8a-4277-ab49-c596b7dca130",
   "metadata": {},
   "outputs": [
    {
     "data": {
      "text/plain": [
       "array([[9, 8, 7, 6, 5],\n",
       "       [1, 2, 3, 4, 5]])"
      ]
     },
     "execution_count": 13,
     "metadata": {},
     "output_type": "execute_result"
    }
   ],
   "source": [
    "ar1"
   ]
  },
  {
   "cell_type": "code",
   "execution_count": 14,
   "id": "0a69261b-eb48-44fc-b96f-fbc8f57f741d",
   "metadata": {},
   "outputs": [
    {
     "data": {
      "text/plain": [
       "2"
      ]
     },
     "execution_count": 14,
     "metadata": {},
     "output_type": "execute_result"
    }
   ],
   "source": [
    "ar1.ndim"
   ]
  },
  {
   "cell_type": "code",
   "execution_count": 15,
   "id": "e0fdefaa-24e4-4c1d-98a8-634e6d451d8a",
   "metadata": {},
   "outputs": [
    {
     "data": {
      "text/plain": [
       "10"
      ]
     },
     "execution_count": 15,
     "metadata": {},
     "output_type": "execute_result"
    }
   ],
   "source": [
    "ar1.size"
   ]
  },
  {
   "cell_type": "code",
   "execution_count": 16,
   "id": "5d1b9c46-b55c-4e2a-b1d3-538fa2be7af9",
   "metadata": {},
   "outputs": [
    {
     "data": {
      "text/plain": [
       "(5,)"
      ]
     },
     "execution_count": 16,
     "metadata": {},
     "output_type": "execute_result"
    }
   ],
   "source": [
    "ar.shape"
   ]
  },
  {
   "cell_type": "code",
   "execution_count": 17,
   "id": "e312339b-5d59-4082-9c09-b448cc7c0437",
   "metadata": {},
   "outputs": [
    {
     "data": {
      "text/plain": [
       "(2, 5)"
      ]
     },
     "execution_count": 17,
     "metadata": {},
     "output_type": "execute_result"
    }
   ],
   "source": [
    "ar1.shape"
   ]
  },
  {
   "cell_type": "code",
   "execution_count": 18,
   "id": "4e04a393-eef6-4d30-8e9e-486afed0243b",
   "metadata": {},
   "outputs": [
    {
     "data": {
      "text/plain": [
       "dtype('int64')"
      ]
     },
     "execution_count": 18,
     "metadata": {},
     "output_type": "execute_result"
    }
   ],
   "source": [
    "ar.dtype"
   ]
  },
  {
   "cell_type": "code",
   "execution_count": 19,
   "id": "d396a85e-b4d1-4443-aed3-351f010c5a49",
   "metadata": {},
   "outputs": [],
   "source": [
    "ar2=np.array([[1,2,3,4.8] ,[8,7,4,5]])"
   ]
  },
  {
   "cell_type": "code",
   "execution_count": 20,
   "id": "4bad935d-939c-4ed8-92a5-65ab23cbea0e",
   "metadata": {},
   "outputs": [
    {
     "data": {
      "text/plain": [
       "array([[1. , 2. , 3. , 4.8],\n",
       "       [8. , 7. , 4. , 5. ]])"
      ]
     },
     "execution_count": 20,
     "metadata": {},
     "output_type": "execute_result"
    }
   ],
   "source": [
    "ar2"
   ]
  },
  {
   "cell_type": "code",
   "execution_count": 21,
   "id": "81ad658b-0423-46ad-b693-7b32325aa4c3",
   "metadata": {},
   "outputs": [
    {
     "data": {
      "text/plain": [
       "dtype('float64')"
      ]
     },
     "execution_count": 21,
     "metadata": {},
     "output_type": "execute_result"
    }
   ],
   "source": [
    "ar2.dtype"
   ]
  },
  {
   "cell_type": "code",
   "execution_count": 24,
   "id": "c999e8ec-28ba-463d-aafa-9e5c73688cfa",
   "metadata": {},
   "outputs": [
    {
     "ename": "TypeError",
     "evalue": "'float' object cannot be interpreted as an integer",
     "output_type": "error",
     "traceback": [
      "\u001b[0;31m---------------------------------------------------------------------------\u001b[0m",
      "\u001b[0;31mTypeError\u001b[0m                                 Traceback (most recent call last)",
      "Cell \u001b[0;32mIn[24], line 1\u001b[0m\n\u001b[0;32m----> 1\u001b[0m \u001b[38;5;28mlist\u001b[39m(\u001b[38;5;28;43mrange\u001b[39;49m\u001b[43m(\u001b[49m\u001b[38;5;241;43m0.1\u001b[39;49m\u001b[43m \u001b[49m\u001b[43m,\u001b[49m\u001b[38;5;241;43m0.7\u001b[39;49m\u001b[43m)\u001b[49m)\n",
      "\u001b[0;31mTypeError\u001b[0m: 'float' object cannot be interpreted as an integer"
     ]
    }
   ],
   "source": [
    "list(range(0.1 ,0.7))"
   ]
  },
  {
   "cell_type": "code",
   "execution_count": 27,
   "id": "819137bb-fa61-42c5-be6a-c223aca8ac55",
   "metadata": {},
   "outputs": [
    {
     "data": {
      "text/plain": [
       "array([0.1, 1.1, 2.1, 3.1, 4.1, 5.1])"
      ]
     },
     "execution_count": 27,
     "metadata": {},
     "output_type": "execute_result"
    }
   ],
   "source": [
    "np.arange(0.1 ,5.7)"
   ]
  },
  {
   "cell_type": "code",
   "execution_count": 1,
   "id": "b328f168-da94-4ad6-9e22-e351ef02c2e8",
   "metadata": {},
   "outputs": [],
   "source": [
    "import numpy as np"
   ]
  },
  {
   "cell_type": "code",
   "execution_count": 3,
   "id": "a069f835-9767-4e21-8ebf-1056f1c44d6b",
   "metadata": {},
   "outputs": [
    {
     "data": {
      "text/plain": [
       "[0, 1, 2, 3, 4, 5, 6, 7, 8]"
      ]
     },
     "execution_count": 3,
     "metadata": {},
     "output_type": "execute_result"
    }
   ],
   "source": [
    "list(range(9))"
   ]
  },
  {
   "cell_type": "code",
   "execution_count": 5,
   "id": "343c009f-58c4-4469-ae61-553c527f6f3e",
   "metadata": {},
   "outputs": [
    {
     "data": {
      "text/plain": [
       "array([2.1, 3.1, 4.1, 5.1, 6.1])"
      ]
     },
     "execution_count": 5,
     "metadata": {},
     "output_type": "execute_result"
    }
   ],
   "source": [
    "np.arange(2.1 , 7.1)"
   ]
  },
  {
   "cell_type": "code",
   "execution_count": 1,
   "id": "ebdf3f81-3a25-41b8-a6b1-3d5e936ff6fe",
   "metadata": {},
   "outputs": [],
   "source": [
    "import numpy as np"
   ]
  },
  {
   "cell_type": "code",
   "execution_count": 2,
   "id": "c6720b72-a1a2-4dd6-9fcd-4ea1eac751bc",
   "metadata": {},
   "outputs": [
    {
     "data": {
      "text/plain": [
       "[7.1,\n",
       " 8.1,\n",
       " 9.1,\n",
       " 10.1,\n",
       " 11.1,\n",
       " 12.1,\n",
       " 13.1,\n",
       " 14.1,\n",
       " 15.1,\n",
       " 16.1,\n",
       " 17.1,\n",
       " 18.1,\n",
       " 19.1,\n",
       " 20.1,\n",
       " 21.1]"
      ]
     },
     "execution_count": 2,
     "metadata": {},
     "output_type": "execute_result"
    }
   ],
   "source": [
    "list(np.arange(7.1 ,21.7))"
   ]
  },
  {
   "cell_type": "code",
   "execution_count": 1,
   "id": "0c139190-b6e2-49df-a9e6-010d35aa95fa",
   "metadata": {},
   "outputs": [],
   "source": [
    "import numpy as np"
   ]
  },
  {
   "cell_type": "code",
   "execution_count": 5,
   "id": "b5c5ba92-c911-4723-8e03-870c74a45b21",
   "metadata": {},
   "outputs": [
    {
     "data": {
      "text/plain": [
       "array([1.        , 1.45454545, 1.90909091, 2.36363636, 2.81818182,\n",
       "       3.27272727, 3.72727273, 4.18181818, 4.63636364, 5.09090909,\n",
       "       5.54545455, 6.        ])"
      ]
     },
     "execution_count": 5,
     "metadata": {},
     "output_type": "execute_result"
    }
   ],
   "source": [
    "np.linspace(1,6,12)"
   ]
  },
  {
   "cell_type": "code",
   "execution_count": 8,
   "id": "89a16f8b-9287-47a7-af34-60c847d08c3b",
   "metadata": {},
   "outputs": [
    {
     "data": {
      "text/plain": [
       "array([0., 0., 0., 0.])"
      ]
     },
     "execution_count": 8,
     "metadata": {},
     "output_type": "execute_result"
    }
   ],
   "source": [
    "np.zeros(4)"
   ]
  },
  {
   "cell_type": "code",
   "execution_count": 10,
   "id": "da09614e-d6f5-4b58-b20b-0aa384efdda7",
   "metadata": {},
   "outputs": [],
   "source": [
    "ar = np.zeros((3,4))"
   ]
  },
  {
   "cell_type": "code",
   "execution_count": 11,
   "id": "eb16a61b-a4d0-481e-bd9f-e70956dadaa0",
   "metadata": {},
   "outputs": [
    {
     "data": {
      "text/plain": [
       "array([[0., 0., 0., 0.],\n",
       "       [0., 0., 0., 0.],\n",
       "       [0., 0., 0., 0.]])"
      ]
     },
     "execution_count": 11,
     "metadata": {},
     "output_type": "execute_result"
    }
   ],
   "source": [
    "ar"
   ]
  },
  {
   "cell_type": "code",
   "execution_count": 12,
   "id": "63fd5b04-4b39-4ebb-9810-d1b9d8e4313e",
   "metadata": {},
   "outputs": [
    {
     "data": {
      "text/plain": [
       "2"
      ]
     },
     "execution_count": 12,
     "metadata": {},
     "output_type": "execute_result"
    }
   ],
   "source": [
    "ar.ndim"
   ]
  },
  {
   "cell_type": "code",
   "execution_count": 14,
   "id": "60849c94-413d-4562-b675-5dbe5908c2d1",
   "metadata": {},
   "outputs": [
    {
     "data": {
      "text/plain": [
       "array([[[0., 0., 0., 0.],\n",
       "        [0., 0., 0., 0.],\n",
       "        [0., 0., 0., 0.]],\n",
       "\n",
       "       [[0., 0., 0., 0.],\n",
       "        [0., 0., 0., 0.],\n",
       "        [0., 0., 0., 0.]]])"
      ]
     },
     "execution_count": 14,
     "metadata": {},
     "output_type": "execute_result"
    }
   ],
   "source": [
    "np.zeros((2,3,4))"
   ]
  },
  {
   "cell_type": "code",
   "execution_count": 16,
   "id": "c62351a7-08af-48a0-8ddd-3bf6fad5ec51",
   "metadata": {},
   "outputs": [],
   "source": [
    "ar5=np.ones(5)"
   ]
  },
  {
   "cell_type": "code",
   "execution_count": 17,
   "id": "9b60dd62-26b5-4690-a9ab-936509999bf9",
   "metadata": {},
   "outputs": [
    {
     "data": {
      "text/plain": [
       "array([1., 1., 1., 1., 1.])"
      ]
     },
     "execution_count": 17,
     "metadata": {},
     "output_type": "execute_result"
    }
   ],
   "source": [
    "ar5"
   ]
  },
  {
   "cell_type": "code",
   "execution_count": 18,
   "id": "8be3912e-a3f3-4d55-b738-94307bd0fe90",
   "metadata": {},
   "outputs": [
    {
     "data": {
      "text/plain": [
       "1"
      ]
     },
     "execution_count": 18,
     "metadata": {},
     "output_type": "execute_result"
    }
   ],
   "source": [
    "ar5.ndim"
   ]
  },
  {
   "cell_type": "code",
   "execution_count": 19,
   "id": "585d7b53-a478-426f-86d7-ea0d4000790c",
   "metadata": {},
   "outputs": [
    {
     "data": {
      "text/plain": [
       "array([[1., 1., 1., 1., 1.],\n",
       "       [1., 1., 1., 1., 1.],\n",
       "       [1., 1., 1., 1., 1.],\n",
       "       [1., 1., 1., 1., 1.]])"
      ]
     },
     "execution_count": 19,
     "metadata": {},
     "output_type": "execute_result"
    }
   ],
   "source": [
    "np.ones((4,5))"
   ]
  },
  {
   "cell_type": "code",
   "execution_count": 21,
   "id": "49683703-1dbe-4bc4-a873-affeedf4de42",
   "metadata": {},
   "outputs": [],
   "source": [
    "ar6=np.ones((2,4,5))"
   ]
  },
  {
   "cell_type": "code",
   "execution_count": 22,
   "id": "8c3bd26b-bafc-4eb7-9b8c-d60c82a8b341",
   "metadata": {},
   "outputs": [
    {
     "data": {
      "text/plain": [
       "array([[[1., 1., 1., 1., 1.],\n",
       "        [1., 1., 1., 1., 1.],\n",
       "        [1., 1., 1., 1., 1.],\n",
       "        [1., 1., 1., 1., 1.]],\n",
       "\n",
       "       [[1., 1., 1., 1., 1.],\n",
       "        [1., 1., 1., 1., 1.],\n",
       "        [1., 1., 1., 1., 1.],\n",
       "        [1., 1., 1., 1., 1.]]])"
      ]
     },
     "execution_count": 22,
     "metadata": {},
     "output_type": "execute_result"
    }
   ],
   "source": [
    "ar6"
   ]
  },
  {
   "cell_type": "code",
   "execution_count": 23,
   "id": "e266f4b8-12a0-4b3f-819b-9fc08c9a0b3e",
   "metadata": {},
   "outputs": [
    {
     "data": {
      "text/plain": [
       "array([[[3., 3., 3., 3., 3.],\n",
       "        [3., 3., 3., 3., 3.],\n",
       "        [3., 3., 3., 3., 3.],\n",
       "        [3., 3., 3., 3., 3.]],\n",
       "\n",
       "       [[3., 3., 3., 3., 3.],\n",
       "        [3., 3., 3., 3., 3.],\n",
       "        [3., 3., 3., 3., 3.],\n",
       "        [3., 3., 3., 3., 3.]]])"
      ]
     },
     "execution_count": 23,
     "metadata": {},
     "output_type": "execute_result"
    }
   ],
   "source": [
    "ar6+2"
   ]
  },
  {
   "cell_type": "code",
   "execution_count": 24,
   "id": "d9fe691a-0da0-4c66-98da-ca85ee61f7ce",
   "metadata": {},
   "outputs": [
    {
     "data": {
      "text/plain": [
       "3"
      ]
     },
     "execution_count": 24,
     "metadata": {},
     "output_type": "execute_result"
    }
   ],
   "source": [
    "ar6.ndim"
   ]
  },
  {
   "cell_type": "code",
   "execution_count": 26,
   "id": "e1e7d8ac-f8aa-4a45-8078-52303bf817a5",
   "metadata": {},
   "outputs": [
    {
     "data": {
      "text/plain": [
       "array([[[4., 4., 4., 4., 4.],\n",
       "        [4., 4., 4., 4., 4.],\n",
       "        [4., 4., 4., 4., 4.],\n",
       "        [4., 4., 4., 4., 4.]],\n",
       "\n",
       "       [[4., 4., 4., 4., 4.],\n",
       "        [4., 4., 4., 4., 4.],\n",
       "        [4., 4., 4., 4., 4.],\n",
       "        [4., 4., 4., 4., 4.]]])"
      ]
     },
     "execution_count": 26,
     "metadata": {},
     "output_type": "execute_result"
    }
   ],
   "source": [
    "ar6*4"
   ]
  },
  {
   "cell_type": "code",
   "execution_count": 29,
   "id": "b65afa48-8846-4f5a-92a4-2a21a1e40510",
   "metadata": {},
   "outputs": [
    {
     "data": {
      "text/plain": [
       "array([2.00000000e+000, 6.95269913e-310])"
      ]
     },
     "execution_count": 29,
     "metadata": {},
     "output_type": "execute_result"
    }
   ],
   "source": [
    "np.empty(2)"
   ]
  },
  {
   "cell_type": "code",
   "execution_count": 1,
   "id": "fef18be4-441d-4c35-b359-32768c27fe46",
   "metadata": {},
   "outputs": [],
   "source": [
    "import numpy as np"
   ]
  },
  {
   "cell_type": "code",
   "execution_count": 3,
   "id": "d761a4fa-5e09-4373-9cbe-73a7fcbd4ab2",
   "metadata": {},
   "outputs": [
    {
     "data": {
      "text/plain": [
       "array([0., 0., 0., 0.])"
      ]
     },
     "execution_count": 3,
     "metadata": {},
     "output_type": "execute_result"
    }
   ],
   "source": [
    "np.zeros(4)"
   ]
  },
  {
   "cell_type": "code",
   "execution_count": 4,
   "id": "487993cf-c602-4fff-abc0-5d010e56b36f",
   "metadata": {},
   "outputs": [
    {
     "data": {
      "text/plain": [
       "array([4.68300338e-310, 0.00000000e+000, 4.68234230e-310, 4.68234230e-310,\n",
       "       2.37151510e-322])"
      ]
     },
     "execution_count": 4,
     "metadata": {},
     "output_type": "execute_result"
    }
   ],
   "source": [
    "np.empty(5)"
   ]
  },
  {
   "cell_type": "code",
   "execution_count": 5,
   "id": "b2f78837-d55e-4493-924a-33fde6aeb455",
   "metadata": {},
   "outputs": [],
   "source": [
    "import numpy as np"
   ]
  },
  {
   "cell_type": "code",
   "execution_count": 3,
   "id": "8db95080-1ca3-4456-8942-aa526d7b0cf2",
   "metadata": {},
   "outputs": [
    {
     "data": {
      "text/plain": [
       "array([[1., 0., 0.],\n",
       "       [0., 1., 0.],\n",
       "       [0., 0., 1.]])"
      ]
     },
     "execution_count": 3,
     "metadata": {},
     "output_type": "execute_result"
    }
   ],
   "source": [
    "np.eye(3)"
   ]
  },
  {
   "cell_type": "code",
   "execution_count": 6,
   "id": "1d73a3bb-d2e0-49c9-987f-b8deb134543b",
   "metadata": {},
   "outputs": [],
   "source": [
    "arr=np.random.randn(3,4)"
   ]
  },
  {
   "cell_type": "code",
   "execution_count": 7,
   "id": "1e37a559-2f91-4358-94fc-e5b24cd06b1c",
   "metadata": {},
   "outputs": [],
   "source": [
    "import pandas as pd "
   ]
  },
  {
   "cell_type": "code",
   "execution_count": 8,
   "id": "8278e49c-2879-4af4-9d1e-aaf0a0865abb",
   "metadata": {},
   "outputs": [
    {
     "data": {
      "text/html": [
       "<div>\n",
       "<style scoped>\n",
       "    .dataframe tbody tr th:only-of-type {\n",
       "        vertical-align: middle;\n",
       "    }\n",
       "\n",
       "    .dataframe tbody tr th {\n",
       "        vertical-align: top;\n",
       "    }\n",
       "\n",
       "    .dataframe thead th {\n",
       "        text-align: right;\n",
       "    }\n",
       "</style>\n",
       "<table border=\"1\" class=\"dataframe\">\n",
       "  <thead>\n",
       "    <tr style=\"text-align: right;\">\n",
       "      <th></th>\n",
       "      <th>0</th>\n",
       "      <th>1</th>\n",
       "      <th>2</th>\n",
       "      <th>3</th>\n",
       "    </tr>\n",
       "  </thead>\n",
       "  <tbody>\n",
       "    <tr>\n",
       "      <th>0</th>\n",
       "      <td>-1.553110</td>\n",
       "      <td>-0.381975</td>\n",
       "      <td>1.569868</td>\n",
       "      <td>0.010397</td>\n",
       "    </tr>\n",
       "    <tr>\n",
       "      <th>1</th>\n",
       "      <td>0.051949</td>\n",
       "      <td>2.323944</td>\n",
       "      <td>0.138646</td>\n",
       "      <td>2.398728</td>\n",
       "    </tr>\n",
       "    <tr>\n",
       "      <th>2</th>\n",
       "      <td>-0.203509</td>\n",
       "      <td>-1.142780</td>\n",
       "      <td>-1.453209</td>\n",
       "      <td>1.663771</td>\n",
       "    </tr>\n",
       "  </tbody>\n",
       "</table>\n",
       "</div>"
      ],
      "text/plain": [
       "          0         1         2         3\n",
       "0 -1.553110 -0.381975  1.569868  0.010397\n",
       "1  0.051949  2.323944  0.138646  2.398728\n",
       "2 -0.203509 -1.142780 -1.453209  1.663771"
      ]
     },
     "execution_count": 8,
     "metadata": {},
     "output_type": "execute_result"
    }
   ],
   "source": [
    "pd.DataFrame(arr)"
   ]
  },
  {
   "cell_type": "code",
   "execution_count": 9,
   "id": "1836329c-387c-49cf-b697-3b7870633987",
   "metadata": {},
   "outputs": [
    {
     "data": {
      "text/plain": [
       "array([[0.08933932, 0.20864737, 0.29057038, 0.84804077],\n",
       "       [0.29653812, 0.70497784, 0.18441241, 0.9152215 ],\n",
       "       [0.96952644, 0.68921321, 0.02282121, 0.02894459]])"
      ]
     },
     "execution_count": 9,
     "metadata": {},
     "output_type": "execute_result"
    }
   ],
   "source": [
    "np.random.rand(3,4)"
   ]
  },
  {
   "cell_type": "code",
   "execution_count": 21,
   "id": "523aee5e-e065-45ce-9434-75f0fd9bb0b1",
   "metadata": {},
   "outputs": [],
   "source": [
    "pd.DataFrame(np.random.randint(1,100 ,(4,5))).to_csv('test.csv')"
   ]
  },
  {
   "cell_type": "raw",
   "id": "ae2c6fb5-d05c-4350-9675-622b41d8539d",
   "metadata": {},
   "source": [
    "az=np.random.randn(3,4)"
   ]
  },
  {
   "cell_type": "code",
   "execution_count": 29,
   "id": "85f9101d-06fa-4063-bcb2-224508057758",
   "metadata": {},
   "outputs": [
    {
     "ename": "NameError",
     "evalue": "name 'az' is not defined",
     "output_type": "error",
     "traceback": [
      "\u001b[0;31m---------------------------------------------------------------------------\u001b[0m",
      "\u001b[0;31mNameError\u001b[0m                                 Traceback (most recent call last)",
      "Cell \u001b[0;32mIn[29], line 1\u001b[0m\n\u001b[0;32m----> 1\u001b[0m \u001b[43maz\u001b[49m\n",
      "\u001b[0;31mNameError\u001b[0m: name 'az' is not defined"
     ]
    }
   ],
   "source": [
    "az"
   ]
  },
  {
   "cell_type": "code",
   "execution_count": 27,
   "id": "0c982ba9-af15-4a68-9c37-7e0edd5619fd",
   "metadata": {},
   "outputs": [
    {
     "ename": "ValueError",
     "evalue": "cannot reshape array of size 20 into shape (6,2)",
     "output_type": "error",
     "traceback": [
      "\u001b[0;31m---------------------------------------------------------------------------\u001b[0m",
      "\u001b[0;31mValueError\u001b[0m                                Traceback (most recent call last)",
      "Cell \u001b[0;32mIn[27], line 1\u001b[0m\n\u001b[0;32m----> 1\u001b[0m \u001b[43mar\u001b[49m\u001b[38;5;241;43m.\u001b[39;49m\u001b[43mreshape\u001b[49m\u001b[43m(\u001b[49m\u001b[38;5;241;43m6\u001b[39;49m\u001b[43m,\u001b[49m\u001b[38;5;241;43m2\u001b[39;49m\u001b[43m)\u001b[49m\n",
      "\u001b[0;31mValueError\u001b[0m: cannot reshape array of size 20 into shape (6,2)"
     ]
    }
   ],
   "source": [
    "ar.reshape(6,2)"
   ]
  },
  {
   "cell_type": "code",
   "execution_count": 1,
   "id": "0aeadedf-2fde-4289-9edf-8b2a24173f01",
   "metadata": {},
   "outputs": [],
   "source": [
    "import numpy as np"
   ]
  },
  {
   "cell_type": "code",
   "execution_count": 2,
   "id": "8c64ec1e-dc34-4773-84d3-0ff9c3cce8d9",
   "metadata": {},
   "outputs": [],
   "source": [
    "at=np.random.rand(4,5)"
   ]
  },
  {
   "cell_type": "code",
   "execution_count": 3,
   "id": "61c20eb5-4a33-48e6-b539-9bc8143eabff",
   "metadata": {},
   "outputs": [
    {
     "data": {
      "text/plain": [
       "array([[0.05893319, 0.67427846, 0.27949308, 0.66251613, 0.95581569],\n",
       "       [0.11055876, 0.21024763, 0.11581205, 0.38735176, 0.05665341],\n",
       "       [0.34792373, 0.55383168, 0.32907187, 0.19416402, 0.08768719],\n",
       "       [0.36855914, 0.68613846, 0.83751709, 0.85041003, 0.73320818]])"
      ]
     },
     "execution_count": 3,
     "metadata": {},
     "output_type": "execute_result"
    }
   ],
   "source": [
    "at"
   ]
  },
  {
   "cell_type": "code",
   "execution_count": 5,
   "id": "f79bc6b1-602d-4ced-82e8-804e3241d104",
   "metadata": {},
   "outputs": [],
   "source": [
    "at1=at.reshape(10,2)"
   ]
  },
  {
   "cell_type": "code",
   "execution_count": 6,
   "id": "3ba8db0d-638f-4e3f-acef-cd9a0f0b798d",
   "metadata": {},
   "outputs": [
    {
     "data": {
      "text/plain": [
       "array([[0.05893319, 0.67427846],\n",
       "       [0.27949308, 0.66251613],\n",
       "       [0.95581569, 0.11055876],\n",
       "       [0.21024763, 0.11581205],\n",
       "       [0.38735176, 0.05665341],\n",
       "       [0.34792373, 0.55383168],\n",
       "       [0.32907187, 0.19416402],\n",
       "       [0.08768719, 0.36855914],\n",
       "       [0.68613846, 0.83751709],\n",
       "       [0.85041003, 0.73320818]])"
      ]
     },
     "execution_count": 6,
     "metadata": {},
     "output_type": "execute_result"
    }
   ],
   "source": [
    "at1"
   ]
  },
  {
   "cell_type": "code",
   "execution_count": 8,
   "id": "0a4af755-2cea-4724-8a2b-82e62fae8e7f",
   "metadata": {},
   "outputs": [
    {
     "data": {
      "text/plain": [
       "0.9558156874794925"
      ]
     },
     "execution_count": 8,
     "metadata": {},
     "output_type": "execute_result"
    }
   ],
   "source": [
    "at1[2][0]"
   ]
  },
  {
   "cell_type": "code",
   "execution_count": 9,
   "id": "4cf68181-36b2-4509-9a5a-284087d50220",
   "metadata": {},
   "outputs": [
    {
     "data": {
      "text/plain": [
       "0.6625161267598813"
      ]
     },
     "execution_count": 9,
     "metadata": {},
     "output_type": "execute_result"
    }
   ],
   "source": [
    "at1[1][1]"
   ]
  },
  {
   "cell_type": "code",
   "execution_count": 13,
   "id": "c37b6a22-7b5d-476c-816f-aab31ee7ca77",
   "metadata": {},
   "outputs": [],
   "source": [
    "at3=np.random.randint(1,200 ,(4,5))"
   ]
  },
  {
   "cell_type": "code",
   "execution_count": 14,
   "id": "8e41a7ec-2574-4c2c-9e20-0caa4f388893",
   "metadata": {},
   "outputs": [
    {
     "data": {
      "text/plain": [
       "array([[ 62,  33, 193, 195,  76],\n",
       "       [156, 150, 178,  63,  55],\n",
       "       [173, 173,   9,  98, 199],\n",
       "       [142, 107,  65,  98, 120]])"
      ]
     },
     "execution_count": 14,
     "metadata": {},
     "output_type": "execute_result"
    }
   ],
   "source": [
    "at3"
   ]
  },
  {
   "cell_type": "code",
   "execution_count": 15,
   "id": "87189db1-bbdb-432c-b50f-f3b6fbc36d51",
   "metadata": {},
   "outputs": [
    {
     "data": {
      "text/plain": [
       "array([[False, False,  True,  True, False],\n",
       "       [ True,  True,  True, False, False],\n",
       "       [ True,  True, False, False,  True],\n",
       "       [ True,  True, False, False,  True]])"
      ]
     },
     "execution_count": 15,
     "metadata": {},
     "output_type": "execute_result"
    }
   ],
   "source": [
    "at3>100"
   ]
  },
  {
   "cell_type": "code",
   "execution_count": 16,
   "id": "75a0b7da-4c3b-41da-80b7-fd799d78a70e",
   "metadata": {},
   "outputs": [
    {
     "data": {
      "text/plain": [
       "array([193, 195, 156, 150, 178, 173, 173, 199, 142, 107, 120])"
      ]
     },
     "execution_count": 16,
     "metadata": {},
     "output_type": "execute_result"
    }
   ],
   "source": [
    "at3[at3>100]"
   ]
  },
  {
   "cell_type": "code",
   "execution_count": 19,
   "id": "7d26bdb6-e801-4170-819b-9b1288ebb90d",
   "metadata": {},
   "outputs": [
    {
     "data": {
      "text/plain": [
       "array([[156, 150, 178,  63,  55],\n",
       "       [173, 173,   9,  98, 199],\n",
       "       [142, 107,  65,  98, 120]])"
      ]
     },
     "execution_count": 19,
     "metadata": {},
     "output_type": "execute_result"
    }
   ],
   "source": [
    "at3[1:4:1]"
   ]
  },
  {
   "cell_type": "code",
   "execution_count": 20,
   "id": "581b417b-dd23-46af-b885-6c5c132ea156",
   "metadata": {},
   "outputs": [
    {
     "data": {
      "text/plain": [
       "array([[156, 150],\n",
       "       [173, 173]])"
      ]
     },
     "execution_count": 20,
     "metadata": {},
     "output_type": "execute_result"
    }
   ],
   "source": [
    "at3[1:3 ,[0,1]]"
   ]
  },
  {
   "cell_type": "code",
   "execution_count": 21,
   "id": "dced3e34-79b3-478b-bb96-784921a4a843",
   "metadata": {},
   "outputs": [],
   "source": [
    "at4=np.random.randint(1,4 ,(3,3))\n",
    "at5=np.random.randint(2,6 ,(3,3))"
   ]
  },
  {
   "cell_type": "code",
   "execution_count": 22,
   "id": "b79451c4-fa11-4a21-a55c-64ce185537f5",
   "metadata": {},
   "outputs": [
    {
     "data": {
      "text/plain": [
       "array([[3, 3, 1],\n",
       "       [1, 3, 3],\n",
       "       [2, 2, 3]])"
      ]
     },
     "execution_count": 22,
     "metadata": {},
     "output_type": "execute_result"
    }
   ],
   "source": [
    "at4"
   ]
  },
  {
   "cell_type": "code",
   "execution_count": 23,
   "id": "b693044a-5a5c-427f-9b69-f17c9e76b732",
   "metadata": {},
   "outputs": [
    {
     "data": {
      "text/plain": [
       "array([[4, 5, 4],\n",
       "       [4, 5, 5],\n",
       "       [3, 3, 4]])"
      ]
     },
     "execution_count": 23,
     "metadata": {},
     "output_type": "execute_result"
    }
   ],
   "source": [
    "at5"
   ]
  },
  {
   "cell_type": "code",
   "execution_count": 25,
   "id": "b545782d-6396-440e-8f71-45875a70e39f",
   "metadata": {},
   "outputs": [],
   "source": [
    "at6=at4+at5"
   ]
  },
  {
   "cell_type": "code",
   "execution_count": 26,
   "id": "7cd459de-ec66-411c-af3d-51c2dfa53928",
   "metadata": {},
   "outputs": [
    {
     "data": {
      "text/plain": [
       "array([[7, 8, 5],\n",
       "       [5, 8, 8],\n",
       "       [5, 5, 7]])"
      ]
     },
     "execution_count": 26,
     "metadata": {},
     "output_type": "execute_result"
    }
   ],
   "source": [
    "at6"
   ]
  },
  {
   "cell_type": "code",
   "execution_count": 28,
   "id": "1ae6c327-63b6-4996-94d3-614244e6d49c",
   "metadata": {},
   "outputs": [
    {
     "data": {
      "text/plain": [
       "array([[8, 8]])"
      ]
     },
     "execution_count": 28,
     "metadata": {},
     "output_type": "execute_result"
    }
   ],
   "source": [
    "at6[1:2 ,[1,2]]"
   ]
  },
  {
   "cell_type": "code",
   "execution_count": 29,
   "id": "1c37ca4f-09be-43ee-bdc2-d109574f6363",
   "metadata": {},
   "outputs": [
    {
     "data": {
      "text/plain": [
       "array([[12, 15,  4],\n",
       "       [ 4, 15, 15],\n",
       "       [ 6,  6, 12]])"
      ]
     },
     "execution_count": 29,
     "metadata": {},
     "output_type": "execute_result"
    }
   ],
   "source": [
    "at4*at5"
   ]
  },
  {
   "cell_type": "code",
   "execution_count": 30,
   "id": "2234f27e-0051-4a4d-a19e-b45c1bffceb8",
   "metadata": {},
   "outputs": [
    {
     "data": {
      "text/plain": [
       "array([[-1, -2, -3],\n",
       "       [-3, -2, -2],\n",
       "       [-1, -1, -1]])"
      ]
     },
     "execution_count": 30,
     "metadata": {},
     "output_type": "execute_result"
    }
   ],
   "source": [
    "at4-at5"
   ]
  },
  {
   "cell_type": "code",
   "execution_count": 31,
   "id": "5ac06b6c-0df5-4281-8c36-be86eab01335",
   "metadata": {},
   "outputs": [
    {
     "data": {
      "text/plain": [
       "array([[0.75      , 0.6       , 0.25      ],\n",
       "       [0.25      , 0.6       , 0.6       ],\n",
       "       [0.66666667, 0.66666667, 0.75      ]])"
      ]
     },
     "execution_count": 31,
     "metadata": {},
     "output_type": "execute_result"
    }
   ],
   "source": [
    "at4/at5"
   ]
  },
  {
   "cell_type": "code",
   "execution_count": 32,
   "id": "cc98522e-3e57-41ac-b8fe-fd33181d0355",
   "metadata": {},
   "outputs": [
    {
     "data": {
      "text/plain": [
       "array([[27, 33, 31],\n",
       "       [25, 29, 31],\n",
       "       [25, 29, 30]])"
      ]
     },
     "execution_count": 32,
     "metadata": {},
     "output_type": "execute_result"
    }
   ],
   "source": [
    "at4@at5"
   ]
  },
  {
   "cell_type": "code",
   "execution_count": 33,
   "id": "67876262-89a4-4309-9a2a-c1ef964704ba",
   "metadata": {},
   "outputs": [],
   "source": [
    "#numpy-Broadcasting"
   ]
  },
  {
   "cell_type": "code",
   "execution_count": 35,
   "id": "17519e04-791c-4ec8-9613-d278f73705c7",
   "metadata": {},
   "outputs": [],
   "source": [
    "at7=np.zeros((3,3))"
   ]
  },
  {
   "cell_type": "code",
   "execution_count": 36,
   "id": "db1c0a22-2625-4e38-aa3a-35fb4998a586",
   "metadata": {},
   "outputs": [
    {
     "data": {
      "text/plain": [
       "array([[0., 0., 0.],\n",
       "       [0., 0., 0.],\n",
       "       [0., 0., 0.]])"
      ]
     },
     "execution_count": 36,
     "metadata": {},
     "output_type": "execute_result"
    }
   ],
   "source": [
    "at7"
   ]
  },
  {
   "cell_type": "code",
   "execution_count": 37,
   "id": "e386a210-a13b-4988-b22f-bf50a1ca1957",
   "metadata": {},
   "outputs": [],
   "source": [
    "at8=np.array([7,8,9])"
   ]
  },
  {
   "cell_type": "code",
   "execution_count": 38,
   "id": "8bd1effb-6f64-4652-b460-1647729c6d99",
   "metadata": {},
   "outputs": [
    {
     "data": {
      "text/plain": [
       "array([7, 8, 9])"
      ]
     },
     "execution_count": 38,
     "metadata": {},
     "output_type": "execute_result"
    }
   ],
   "source": [
    "at8"
   ]
  },
  {
   "cell_type": "code",
   "execution_count": 39,
   "id": "bba9a5e9-c2c5-4fbd-815b-c5bd77348b53",
   "metadata": {},
   "outputs": [
    {
     "data": {
      "text/plain": [
       "array([[7., 8., 9.],\n",
       "       [7., 8., 9.],\n",
       "       [7., 8., 9.]])"
      ]
     },
     "execution_count": 39,
     "metadata": {},
     "output_type": "execute_result"
    }
   ],
   "source": [
    "at7+at8"
   ]
  },
  {
   "cell_type": "code",
   "execution_count": 44,
   "id": "ca7dba1b-4e16-48bb-b2c9-9ca95b486216",
   "metadata": {},
   "outputs": [],
   "source": [
    "at9=np.array([[1,2,3]])"
   ]
  },
  {
   "cell_type": "code",
   "execution_count": 45,
   "id": "f4b6cfb8-d30b-4c15-b0bd-1df36c9bd2cc",
   "metadata": {},
   "outputs": [
    {
     "data": {
      "text/plain": [
       "array([[1, 2, 3]])"
      ]
     },
     "execution_count": 45,
     "metadata": {},
     "output_type": "execute_result"
    }
   ],
   "source": [
    "at9"
   ]
  },
  {
   "cell_type": "code",
   "execution_count": 47,
   "id": "1eb09a2e-0e39-4faa-94c5-a6aa25135b11",
   "metadata": {},
   "outputs": [],
   "source": [
    "at10=at9.T"
   ]
  },
  {
   "cell_type": "code",
   "execution_count": 48,
   "id": "75c6558d-606b-4427-a469-7e211b0a38ca",
   "metadata": {},
   "outputs": [
    {
     "data": {
      "text/plain": [
       "array([[1],\n",
       "       [2],\n",
       "       [3]])"
      ]
     },
     "execution_count": 48,
     "metadata": {},
     "output_type": "execute_result"
    }
   ],
   "source": [
    "at10"
   ]
  },
  {
   "cell_type": "code",
   "execution_count": 49,
   "id": "558f7805-82bd-48dc-8b16-e787084d7d27",
   "metadata": {},
   "outputs": [
    {
     "data": {
      "text/plain": [
       "array([[1., 1., 1.],\n",
       "       [2., 2., 2.],\n",
       "       [3., 3., 3.]])"
      ]
     },
     "execution_count": 49,
     "metadata": {},
     "output_type": "execute_result"
    }
   ],
   "source": [
    "at7+at10"
   ]
  },
  {
   "cell_type": "code",
   "execution_count": 50,
   "id": "08581ce1-c076-4983-9d3e-cd3291e6266e",
   "metadata": {},
   "outputs": [],
   "source": [
    "at11=np.random.randint(1,3 ,(3,3))"
   ]
  },
  {
   "cell_type": "code",
   "execution_count": 51,
   "id": "79c6b59e-f711-4e23-9e09-e7d114705fa6",
   "metadata": {},
   "outputs": [
    {
     "data": {
      "text/plain": [
       "array([[1, 2, 2],\n",
       "       [1, 2, 1],\n",
       "       [2, 1, 2]])"
      ]
     },
     "execution_count": 51,
     "metadata": {},
     "output_type": "execute_result"
    }
   ],
   "source": [
    "at11"
   ]
  },
  {
   "cell_type": "code",
   "execution_count": 52,
   "id": "3d6b9a4d-208f-4b4d-a520-c34489776216",
   "metadata": {},
   "outputs": [
    {
     "data": {
      "text/plain": [
       "array([[1.        , 1.41421356, 1.41421356],\n",
       "       [1.        , 1.41421356, 1.        ],\n",
       "       [1.41421356, 1.        , 1.41421356]])"
      ]
     },
     "execution_count": 52,
     "metadata": {},
     "output_type": "execute_result"
    }
   ],
   "source": [
    "np.sqrt(at11)"
   ]
  },
  {
   "cell_type": "code",
   "execution_count": 53,
   "id": "2adbdc54-9821-421e-a98a-50d7b158bc24",
   "metadata": {},
   "outputs": [
    {
     "data": {
      "text/plain": [
       "array([[2.71828183, 7.3890561 , 7.3890561 ],\n",
       "       [2.71828183, 7.3890561 , 2.71828183],\n",
       "       [7.3890561 , 2.71828183, 7.3890561 ]])"
      ]
     },
     "execution_count": 53,
     "metadata": {},
     "output_type": "execute_result"
    }
   ],
   "source": [
    "np.exp(at11)"
   ]
  },
  {
   "cell_type": "code",
   "execution_count": 54,
   "id": "20a16653-c8a5-488d-9cf5-476b76e99d84",
   "metadata": {},
   "outputs": [
    {
     "data": {
      "text/plain": [
       "array([[0., 1., 1.],\n",
       "       [0., 1., 0.],\n",
       "       [1., 0., 1.]])"
      ]
     },
     "execution_count": 54,
     "metadata": {},
     "output_type": "execute_result"
    }
   ],
   "source": [
    "np.log2(at11)"
   ]
  },
  {
   "cell_type": "code",
   "execution_count": null,
   "id": "996023c9-0541-4372-b5fe-b16e3dbe27e7",
   "metadata": {},
   "outputs": [],
   "source": []
  }
 ],
 "metadata": {
  "kernelspec": {
   "display_name": "Python 3 (ipykernel)",
   "language": "python",
   "name": "python3"
  },
  "language_info": {
   "codemirror_mode": {
    "name": "ipython",
    "version": 3
   },
   "file_extension": ".py",
   "mimetype": "text/x-python",
   "name": "python",
   "nbconvert_exporter": "python",
   "pygments_lexer": "ipython3",
   "version": "3.10.8"
  }
 },
 "nbformat": 4,
 "nbformat_minor": 5
}
